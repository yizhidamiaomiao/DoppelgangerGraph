{
 "cells": [
  {
   "cell_type": "code",
   "execution_count": 1,
   "metadata": {},
   "outputs": [],
   "source": [
    "import networkx as nx\n",
    "import scipy.sparse as sp\n",
    "import numpy as np\n",
    "import utils\n",
    "import torch\n",
    "import torch\n",
    "from collections import defaultdict\n",
    "import numpy as np\n",
    "import time\n",
    "import json"
   ]
  },
  {
   "cell_type": "code",
   "execution_count": 2,
   "metadata": {},
   "outputs": [],
   "source": [
    "seed=114514\n",
    "np.random.seed(seed)\n",
    "torch.manual_seed(seed)\n",
    "torch.cuda.manual_seed(seed)\n",
    "torch.cuda.seed_all()"
   ]
  },
  {
   "cell_type": "markdown",
   "metadata": {},
   "source": [
    "# **Read data**"
   ]
  },
  {
   "cell_type": "code",
   "execution_count": 3,
   "metadata": {},
   "outputs": [
    {
     "name": "stdout",
     "output_type": "stream",
     "text": [
      "7358\n",
      "[[1370  823]\n",
      " [  65   63]\n",
      " [ 262  247]\n",
      " [ 398  308]\n",
      " [ 859  383]]\n"
     ]
    }
   ],
   "source": [
    "loader = np.load('citeseer.npz')\n",
    "train_ones = loader['edges']\n",
    "print(len(train_ones))\n",
    "print(train_ones[:5])"
   ]
  },
  {
   "cell_type": "code",
   "execution_count": 4,
   "metadata": {},
   "outputs": [
    {
     "name": "stdout",
     "output_type": "stream",
     "text": [
      "Selecting 1 largest connected components\n",
      "n 2120\n",
      "m 3679\n"
     ]
    }
   ],
   "source": [
    "adj_sparse = np.zeros((np.max(train_ones)+1,np.max(train_ones)+1))\n",
    "for e in train_ones:\n",
    "    adj_sparse[e[0],e[1]]=1\n",
    "    adj_sparse[e[1],e[0]]=1\n",
    "    \n",
    "adj_sparse = sp.coo_matrix(adj_sparse).tocsr()\n",
    "\n",
    "lcc = utils.largest_connected_components(adj_sparse)\n",
    "adj_sparse= adj_sparse[lcc,:][:,lcc]\n",
    "_N = adj_sparse.shape[0]\n",
    "print('n',_N)\n",
    "_Edges=[]\n",
    "for x in np.column_stack(adj_sparse.nonzero()):\n",
    "    if not x[0]==x[1]:\n",
    "        _Edges.append((x[0],x[1]))\n",
    "_num_of_edges=int(len(_Edges)/2)\n",
    "print('m',_num_of_edges)\n",
    "\n",
    "dic=defaultdict(set)\n",
    "for x in _Edges:\n",
    "    a1=x[0]\n",
    "    a2=x[1]\n",
    "    dic[a1].add(a2)\n",
    "    dic[a2].add(a1)\n",
    "    \n",
    "\n",
    "adj_origin=np.zeros((_N,_N)).astype(int)\n",
    "for (i,j) in _Edges:\n",
    "    adj_origin[i][j]=1\n",
    "    adj_origin[j][i]=1\n",
    "assert(np.sum(adj_origin==adj_origin.T)==_N*_N)\n",
    "assert(np.sum(adj_origin)==_num_of_edges*2)"
   ]
  },
  {
   "cell_type": "markdown",
   "metadata": {},
   "source": [
    "# **1.Get link prediction model and embedding**"
   ]
  },
  {
   "cell_type": "code",
   "execution_count": 5,
   "metadata": {},
   "outputs": [],
   "source": [
    "embedding_dim=128\n",
    "\n",
    "graphsagemodel=utils.GraphSAGE(_N=_N,_M=_num_of_edges,adj_origin=adj_origin,\n",
    "                                         adj_dic=dic,embedding_dim=embedding_dim)\n"
   ]
  },
  {
   "cell_type": "markdown",
   "metadata": {},
   "source": [
    "# *1.2 Load pretrained model*"
   ]
  },
  {
   "cell_type": "code",
   "execution_count": 6,
   "metadata": {},
   "outputs": [],
   "source": [
    "graphsagemodel.load_model(path='graphsage.pth',embedding_path='embedding_matrix.pth.npy')"
   ]
  },
  {
   "cell_type": "code",
   "execution_count": 7,
   "metadata": {},
   "outputs": [
    {
     "name": "stdout",
     "output_type": "stream",
     "text": [
      "2119/2120[(0.80461353, 1185, 1358), (0.8073064, 856, 1223), (0.8060322, 380, 1093), (0.808399, 431, 765), (0.8100257, 603, 1814), (0.80605096, 767, 768), (0.80950147, 14, 765), (0.82261145, 64, 944), (0.8217213, 234, 433), (0.8159603, 413, 1838)]\n",
      "1.0\n",
      "(2120, 2120)\n",
      "7358\n",
      "7358\n",
      "True Positve:7046, 0.96\n",
      "False Positve:312, 0.04\n",
      "True Negative:4486730, 1.00\n",
      "False Negative:312, 0.00\n",
      "Positive:0.00\n",
      "Negative:1.00\n"
     ]
    }
   ],
   "source": [
    "embedding_matrix_numpy=graphsagemodel.embedding_matrix_numpy\n",
    "link_prediction_model=graphsagemodel.graphsage_link_prediction_from_embedding_one_to_other\n",
    "predict_adj=utils.evaluate_overlap_torch(_N=_N,\n",
    "                                                    _num_of_edges=_num_of_edges,\n",
    "                                                    adj_origin=adj_origin,\n",
    "                                                    embedding_matrix_numpy=embedding_matrix_numpy,\n",
    "                                                    link_prediction_from_embedding_one_to_other=link_prediction_model)"
   ]
  },
  {
   "cell_type": "code",
   "execution_count": 8,
   "metadata": {},
   "outputs": [
    {
     "name": "stderr",
     "output_type": "stream",
     "text": [
      "Values less than or equal to 0 in data. Throwing out 0 or negative values\n",
      "/opt/anaconda3/lib/python3.7/site-packages/powerlaw.py:700: RuntimeWarning: invalid value encountered in true_divide\n",
      "  (Theoretical_CDF * (1 - Theoretical_CDF))\n"
     ]
    }
   ],
   "source": [
    "metric_embedding=utils.compute_graph_statistics(predict_adj)\n",
    "metric_origin=utils.compute_graph_statistics(adj_origin)"
   ]
  },
  {
   "cell_type": "code",
   "execution_count": 9,
   "metadata": {},
   "outputs": [
    {
     "name": "stdout",
     "output_type": "stream",
     "text": [
      "d_max                     origin:      99.00000000, link_pred:      84.00000000\n",
      "d_min                     origin:       1.00000000, link_pred:       0.00000000\n",
      "d                         origin:       3.47075472, link_pred:       3.47075472\n",
      "LCC                       origin:    2120.00000000, link_pred:    2106.00000000\n",
      "wedge_count               origin:   25974.00000000, link_pred:   23738.00000000\n",
      "claw_count                origin:  250382.00000000, link_pred:  179041.00000000\n",
      "triangle_count            origin:    1084.00000000, link_pred:     955.00000000\n",
      "square_count              origin:     249.00000000, link_pred:     230.00000000\n",
      "power_law_exp             origin:       2.07078423, link_pred:       2.05032433\n",
      "gini                      origin:       0.42760979, link_pred:       0.41877035\n",
      "rel_edge_distr_entropy    origin:       0.95385514, link_pred:       0.95661529\n",
      "assortativity             origin:       0.00750617, link_pred:      -0.01448289\n",
      "clustering_coefficient    origin:       0.01298815, link_pred:       0.01600192\n",
      "n_components              origin:       1.00000000, link_pred:       9.00000000\n",
      "cpl                       origin:       9.32971453, link_pred:       8.48805009\n"
     ]
    }
   ],
   "source": [
    "for x in metric_origin:\n",
    "    print('%-25s origin:%17.8f, link_pred:%17.8f'%(x,metric_origin[x],metric_embedding[x]))"
   ]
  },
  {
   "cell_type": "markdown",
   "metadata": {},
   "source": [
    "# **2.GAN generate new embeddings**"
   ]
  },
  {
   "cell_type": "code",
   "execution_count": 10,
   "metadata": {},
   "outputs": [],
   "source": [
    "batch_size=256\n",
    "noise_dim=16\n",
    "g_hidden_dim=[32,64,100]\n",
    "d_hidden_dim=[100,64,32]\n",
    "lendataloader=20\n",
    "Diter=5\n",
    "Giter=1\n",
    "epoch_numbers=10000\n",
    "eval_epoch=200\n"
   ]
  },
  {
   "cell_type": "code",
   "execution_count": 11,
   "metadata": {},
   "outputs": [],
   "source": [
    "netG = utils.Generator(noise_dim=noise_dim,embedding_dim=embedding_dim, g_hidden_dim=g_hidden_dim,batch_size=batch_size).cuda()"
   ]
  },
  {
   "cell_type": "code",
   "execution_count": 12,
   "metadata": {},
   "outputs": [
    {
     "data": {
      "text/plain": [
       "<All keys matched successfully>"
      ]
     },
     "execution_count": 12,
     "metadata": {},
     "output_type": "execute_result"
    }
   ],
   "source": [
    "netG.load_state_dict(torch.load('gan_model/bestG.pth'))"
   ]
  },
  {
   "cell_type": "markdown",
   "metadata": {},
   "source": [
    "# *2.2.2compute ECDF*"
   ]
  },
  {
   "cell_type": "code",
   "execution_count": 13,
   "metadata": {},
   "outputs": [
    {
     "data": {
      "image/png": "[encoded data removed]",
      "text/plain": [
       "<Figure size 432x288 with 1 Axes>"
      ]
     },
     "metadata": {
      "needs_background": "light"
     },
     "output_type": "display_data"
    },
    {
     "name": "stdout",
     "output_type": "stream",
     "text": [
      "[[1.3090008  0.         0.4011195  0.         0.63684213]\n",
      " [1.4057715  0.         0.         0.7536407  0.47576764]\n",
      " [0.31215188 0.         0.         0.         0.        ]]\n",
      "[[1.336173   0.         0.         1.0743436  1.3989782 ]\n",
      " [1.5023165  0.         0.         0.4443164  0.27750415]\n",
      " [1.8502209  0.         0.01536158 0.55910414 0.3007873 ]]\n",
      "0.09876162\n",
      "0.0924415\n",
      "0.09572865\n"
     ]
    },
    {
     "data": {
      "text/plain": [
       "(0.009607270359992981, 2120)"
      ]
     },
     "execution_count": 13,
     "metadata": {},
     "output_type": "execute_result"
    }
   ],
   "source": [
    "utils.eval_plot(netG,embedding_matrix=embedding_matrix_numpy,noise_dim=16,mmd_beta=0.1)"
   ]
  },
  {
   "cell_type": "markdown",
   "metadata": {},
   "source": [
    "# **3.Sample**"
   ]
  },
  {
   "cell_type": "code",
   "execution_count": 14,
   "metadata": {},
   "outputs": [],
   "source": [
    "def save_graph(adj_generate,dirpath):\n",
    "    edges=[]\n",
    "    for i in range(_N):\n",
    "        for j in range(i+1,_N):\n",
    "            if adj_generate[i][j]==1:\n",
    "                edges.append((i,j))\n",
    "    edges=np.array(edges).astype(int)\n",
    "    np.save(dirpath,edges)"
   ]
  },
  {
   "cell_type": "code",
   "execution_count": 15,
   "metadata": {},
   "outputs": [],
   "source": [
    "def edgeoverlap_generate(generate_graph,adj_origin):\n",
    "    tp=0\n",
    "    tn=0\n",
    "    fp=0\n",
    "    fn=0\n",
    "    for i in range(_N):\n",
    "        for j in range(_N):\n",
    "            if generate_graph[i,j]==1 and adj_origin[i,j]==1:\n",
    "                tp=tp+1\n",
    "            if generate_graph[i,j]==0 and adj_origin[i,j]==1:\n",
    "                fp=fp+1\n",
    "            if generate_graph[i,j]==1 and adj_origin[i,j]==0:\n",
    "                fn=fn+1\n",
    "            if generate_graph[i,j]==0 and adj_origin[i,j]==0:\n",
    "                tn=tn+1\n",
    "        print('\\r%d/%d'%(i,_N),end=\"\")\n",
    "    print('\\n')\n",
    "    print('Edge overlap between generate graph and original graph')\n",
    "    print(generate_graph.shape)\n",
    "    total_num=_N*_N\n",
    "    print('True Positve:%d, %.2f'%(tp,tp/(tp+fp)))\n",
    "    print('False Positve:%d, %.2f'%(fp,fp/(tp+fp)))\n",
    "    print('True Negative:%d, %.2f'%(tn,tn/(tn+fn)))\n",
    "    print('False Negative:%d, %.2f'%(fn,fn/(tn+fn)))\n",
    "    print('Positive:%.2f'%((tp+fp)/total_num))\n",
    "    print('Negative:%.2f'%((tn+fn)/total_num))\n",
    "    return tp/(tp+fp)"
   ]
  },
  {
   "cell_type": "code",
   "execution_count": 16,
   "metadata": {},
   "outputs": [],
   "source": [
    "import os\n",
    "dirs_generate = 'graph_generate/'\n",
    "if not os.path.exists(dirs_generate):\n",
    "    os.makedirs(dirs_generate)\n",
    "generate_number=5"
   ]
  },
  {
   "cell_type": "code",
   "execution_count": 17,
   "metadata": {},
   "outputs": [
    {
     "name": "stdout",
     "output_type": "stream",
     "text": [
      "\n",
      " 0 \n",
      "\n",
      "(2120, 128)\n",
      "2119/2120[(0.9999591112136841, 612, 1855), (0.9999591112136841, 818, 1936), (0.9999594688415527, 871, 1533), (0.9999592304229736, 68, 1340), (0.9999592304229736, 530, 553), (0.9999595880508423, 1716, 1809), (0.9999595880508423, 31, 226), (0.9999593496322632, 102, 1011), (0.9999600648880005, 1017, 1107), (0.9999595880508423, 1319, 2031)]\n",
      " max: (1.0, 2090, 2105) min: (0.9999591112136841, 612, 1855)\n",
      "2120\n",
      "[1, 1, 1, 1, 1, 1, 1, 1, 1, 1]\n",
      "[99, 51, 35, 34, 30, 29, 28, 27, 23, 23]\n",
      "[(0, 1), (0, 2), (0, 3), (0, 4), (0, 5), (0, 6), (0, 7), (0, 8), (0, 9), (0, 10)]\n",
      "[(154, 1540), (145, 778), (99, 33), (92, 489), (90, 1011), (78, 1972), (78, 1690), (77, 1786), (76, 2114), (75, 1899)]\n",
      "[[99, 1540], [51, 778], [35, 33], [34, 489], [30, 1011], [29, 1972], [28, 1690], [27, 1786], [23, 2114], [23, 1899]]\n",
      "[[1, 1], [1, 2], [1, 3], [1, 4], [1, 5], [1, 6], [1, 7], [1, 8], [1, 9], [1, 10]]\n",
      " remain_edge:0,x=76041347358.0\n",
      "0.0\n",
      "3679\n"
     ]
    },
    {
     "name": "stderr",
     "output_type": "stream",
     "text": [
      "/opt/anaconda3/lib/python3.7/site-packages/powerlaw.py:700: RuntimeWarning: invalid value encountered in true_divide\n",
      "  (Theoretical_CDF * (1 - Theoretical_CDF))\n"
     ]
    },
    {
     "name": "stdout",
     "output_type": "stream",
     "text": [
      "2119/2120\n",
      "\n",
      "Edge overlap between generate graph and original graph\n",
      "(2120, 2120)\n",
      "True Positve:12, 0.00\n",
      "False Positve:7346, 1.00\n",
      "True Negative:4479696, 1.00\n",
      "False Negative:7346, 0.00\n",
      "Positive:0.00\n",
      "Negative:1.00\n",
      "\n",
      " 1 \n",
      "\n",
      "(2120, 128)\n",
      "2119/2120[(0.9999479055404663, 1444, 1851), (0.9999481439590454, 162, 231), (0.9999488592147827, 1604, 1888), (0.9999488592147827, 772, 934), (0.9999488592147827, 370, 430), (0.9999489784240723, 100, 450), (0.9999489784240723, 435, 1419), (0.9999493360519409, 179, 1452), (0.9999500513076782, 114, 162), (0.9999488592147827, 1247, 1779)]\n",
      " max: (1.0, 2008, 2116) min: (0.9999479055404663, 1444, 1851)\n",
      "2120\n",
      "[1, 1, 1, 1, 1, 1, 1, 1, 1, 1]\n",
      "[99, 51, 35, 34, 30, 29, 28, 27, 23, 23]\n",
      "[(0, 0), (0, 1), (0, 2), (0, 3), (0, 4), (0, 6), (0, 8), (0, 9), (0, 10), (0, 14)]\n",
      "[(137, 1304), (127, 1153), (113, 1785), (113, 100), (103, 1828), (103, 1076), (92, 752), (86, 1036), (77, 176), (75, 112)]\n",
      "[[99, 1304], [51, 1153], [35, 1785], [34, 100], [30, 1828], [29, 1076], [28, 752], [27, 1036], [23, 176], [23, 112]]\n",
      "[[1, 0], [1, 1], [1, 2], [1, 3], [1, 4], [1, 6], [1, 8], [1, 9], [1, 10], [1, 14]]\n",
      " remain_edge:0,x=67358.0\n",
      "0.0\n",
      "3679\n",
      "2119/2120\n",
      "\n",
      "Edge overlap between generate graph and original graph\n",
      "(2120, 2120)\n",
      "True Positve:0, 0.00\n",
      "False Positve:7358, 1.00\n",
      "True Negative:4479684, 1.00\n",
      "False Negative:7358, 0.00\n",
      "Positive:0.00\n",
      "Negative:1.00\n",
      "\n",
      " 2 \n",
      "\n",
      "(2120, 128)\n",
      "2119/2120[(0.9999004602432251, 1742, 2083), (0.9999005794525146, 708, 1494), (0.9999009370803833, 1000, 2055), (0.9999009370803833, 258, 1655), (0.9999014139175415, 241, 432), (0.9999010562896729, 217, 401), (0.9999014139175415, 1979, 2058), (0.9999010562896729, 1512, 1837), (0.9999010562896729, 556, 1716), (0.9999034404754639, 1264, 1980)]\n",
      " max: (1.0, 2006, 2089) min: (0.9999004602432251, 1742, 2083)\n",
      "2120\n",
      "[1, 1, 1, 1, 1, 1, 1, 1, 1, 1]\n",
      "[99, 51, 35, 34, 30, 29, 28, 27, 23, 23]\n",
      "[(0, 0), (0, 1), (0, 3), (0, 4), (0, 6), (0, 7), (0, 8), (0, 9), (0, 15), (0, 16)]\n",
      "[(137, 787), (121, 1146), (115, 1070), (106, 241), (91, 950), (89, 286), (87, 217), (87, 193), (83, 1497), (82, 1736)]\n",
      "[[99, 787], [51, 1146], [35, 1070], [34, 241], [30, 950], [29, 286], [28, 217], [27, 193], [23, 1736], [23, 1497]]\n",
      "[[1, 0], [1, 1], [1, 3], [1, 4], [1, 6], [1, 7], [1, 8], [1, 9], [1, 15], [1, 16]]\n",
      " remain_edge:0,x=10540457358.0\n",
      "0.0\n",
      "3679\n",
      "2119/2120\n",
      "\n",
      "Edge overlap between generate graph and original graph\n",
      "(2120, 2120)\n",
      "True Positve:10, 0.00\n",
      "False Positve:7348, 1.00\n",
      "True Negative:4479694, 1.00\n",
      "False Negative:7348, 0.00\n",
      "Positive:0.00\n",
      "Negative:1.00\n",
      "\n",
      " 3 \n",
      "\n",
      "(2120, 128)\n",
      "2119/2120[(0.9999619722366333, 383, 2041), (0.9999620914459229, 1229, 1545), (0.9999620914459229, 1338, 1669), (0.9999622106552124, 251, 612), (0.9999620914459229, 1362, 1870), (0.999962329864502, 284, 1624), (0.9999620914459229, 1498, 1934), (0.9999624490737915, 612, 849), (0.9999622106552124, 834, 1893), (0.999963641166687, 238, 1324)]\n",
      " max: (1.0, 2085, 2098) min: (0.9999619722366333, 383, 2041)\n",
      "2120\n",
      "[1, 1, 1, 1, 1, 1, 1, 1, 1, 1]\n",
      "[99, 51, 35, 34, 30, 29, 28, 27, 23, 23]\n",
      "[(0, 0), (0, 1), (0, 3), (0, 6), (0, 7), (0, 8), (0, 10), (0, 14), (0, 15), (0, 17)]\n",
      "[(226, 758), (119, 934), (115, 18), (109, 1229), (92, 1213), (85, 333), (72, 1624), (71, 1548), (62, 839), (61, 1716)]\n",
      "[[99, 758], [51, 934], [35, 18], [34, 1229], [30, 1213], [29, 333], [28, 1624], [27, 1548], [23, 1716], [23, 839]]\n",
      "[[1, 0], [1, 1], [1, 3], [1, 6], [1, 7], [1, 8], [1, 10], [1, 14], [1, 15], [1, 17]]\n",
      " remain_edge:0,x=82912377358.0\n",
      "0.0\n",
      "3679\n",
      "2119/2120\n",
      "\n",
      "Edge overlap between generate graph and original graph\n",
      "(2120, 2120)\n",
      "True Positve:12, 0.00\n",
      "False Positve:7346, 1.00\n",
      "True Negative:4479696, 1.00\n",
      "False Negative:7346, 0.00\n",
      "Positive:0.00\n",
      "Negative:1.00\n",
      "\n",
      " 4 \n",
      "\n",
      "(2120, 128)\n",
      "2119/2120[(0.9999704360961914, 367, 1421), (0.9999704360961914, 597, 1815), (0.9999704360961914, 771, 1139), (0.9999706745147705, 1144, 2044), (0.9999704360961914, 665, 670), (0.9999710321426392, 597, 751), (0.999970555305481, 295, 1530), (0.9999711513519287, 9, 365), (0.9999710321426392, 486, 787), (0.9999707937240601, 148, 690)]\n",
      " max: (1.0, 2044, 2097) min: (0.9999704360961914, 367, 1421)\n",
      "2120\n",
      "[1, 1, 1, 1, 1, 1, 1, 1, 1, 1]\n",
      "[99, 51, 35, 34, 30, 29, 28, 27, 23, 23]\n",
      "[(0, 0), (0, 1), (0, 2), (0, 4), (0, 5), (0, 6), (0, 8), (0, 11), (0, 14), (0, 16)]\n",
      "[(125, 1118), (114, 935), (104, 1663), (101, 1530), (87, 408), (85, 782), (79, 220), (77, 567), (74, 1859), (74, 1360)]\n",
      "[[99, 1118], [51, 935], [35, 1663], [34, 1530], [30, 408], [29, 782], [28, 220], [27, 567], [23, 1859], [23, 1360]]\n",
      "[[1, 0], [1, 1], [1, 2], [1, 4], [1, 5], [1, 6], [1, 8], [1, 11], [1, 14], [1, 16]]\n",
      " remain_edge:0,x=64901497358.0\n",
      "0.0\n",
      "3679\n",
      "2119/2120\n",
      "\n",
      "Edge overlap between generate graph and original graph\n",
      "(2120, 2120)\n",
      "True Positve:8, 0.00\n",
      "False Positve:7350, 1.00\n",
      "True Negative:4479692, 1.00\n",
      "False Negative:7350, 0.00\n",
      "Positive:0.00\n",
      "Negative:1.00\n"
     ]
    }
   ],
   "source": [
    "metric_list={}\n",
    "for idx in range(generate_number):\n",
    "    noise= torch.randn(_N, noise_dim).cuda()\n",
    "    generate_data=netG(noise)\n",
    "    generate_data=generate_data.detach().to('cpu').numpy()\n",
    "    print('\\n',idx,'\\n')\n",
    "    print(generate_data.shape)\n",
    "    probability_matrix_generate=utils.generate_probability_matrix(_N,generate_data,\n",
    "                                                                            link_prediction_model)\n",
    "    _,graphic_seq_generate=utils.evaluate_overlap_torch_generate(_N,_num_of_edges,\n",
    "                                                                                      probability_matrix_generate)\n",
    "    generate_graph=utils.revised_Havel_Hakimmi_Algorithm(_N,_num_of_edges,dic,probability_matrix_generate,graphic_seq_generate)\n",
    "    \n",
    "    save_graph(generate_graph,'graph_generate/citeseer_ourmethod'+str(idx))\n",
    "    data=utils.compute_graph_statistics(generate_graph)\n",
    "    data['edge_overlap']=edgeoverlap_generate(generate_graph,adj_origin)\n",
    "    for x in data:\n",
    "        try:\n",
    "            metric_list[x]\n",
    "        except:\n",
    "            metric_list[x]=[]\n",
    "        metric_list[x].append(data[x])\n"
   ]
  },
  {
   "cell_type": "code",
   "execution_count": 18,
   "metadata": {},
   "outputs": [
    {
     "name": "stdout",
     "output_type": "stream",
     "text": [
      "d_max                  origin:     99.00000000, link_pred:     84.00000000, generate:     99.00000000+-      0.00000000\n",
      "d_min                  origin:      1.00000000, link_pred:      0.00000000, generate:      1.00000000+-      0.00000000\n",
      "d                      origin:      3.47075472, link_pred:      3.47075472, generate:      3.47075472+-      0.00000000\n",
      "LCC                    origin:   2120.00000000, link_pred:   2106.00000000, generate:   1672.60000000+-     19.54072670\n",
      "wedge_count            origin:  25974.00000000, link_pred:  23738.00000000, generate:  25974.00000000+-      0.00000000\n",
      "claw_count             origin: 250382.00000000, link_pred: 179041.00000000, generate: 250382.00000000+-      0.00000000\n",
      "triangle_count         origin:   1084.00000000, link_pred:    955.00000000, generate:    700.20000000+-     47.76777156\n",
      "square_count           origin:    249.00000000, link_pred:    230.00000000, generate:    210.40000000+-     71.79582161\n",
      "power_law_exp          origin:      2.07078423, link_pred:      2.05032433, generate:      2.07078423+-      0.00000000\n",
      "gini                   origin:      0.42760979, link_pred:      0.41877035, generate:      0.42760979+-      0.00000000\n",
      "rel_edge_distr_entropy origin:      0.95385514, link_pred:      0.95661529, generate:      0.95385514+-      0.00000000\n",
      "assortativity          origin:      0.00750617, link_pred:     -0.01448289, generate:      0.15488708+-      0.02273861\n",
      "clustering_coefficient origin:      0.01298815, link_pred:      0.01600192, generate:      0.00838958+-      0.00057234\n",
      "n_components           origin:      1.00000000, link_pred:      9.00000000, generate:    138.60000000+-      7.65767589\n",
      "cpl                    origin:      9.32971453, link_pred:      8.48805009, generate:      7.63996394+-      0.29313019\n",
      "edge_overlap           generate:      0.00114161+-      0.00060536\n"
     ]
    }
   ],
   "source": [
    "for x in metric_list:\n",
    "    metric_mean=np.mean(metric_list[x])\n",
    "    metric_std=np.std(metric_list[x])\n",
    "    if x=='edge_overlap':\n",
    "        print('%-22s generate:%16.8f+-%16.8f'%(x,metric_mean,metric_std))\n",
    "    else:\n",
    "        print('%-22s origin:%16.8f, link_pred:%16.8f, generate:%16.8f+-%16.8f'%(x,metric_origin[x],\n",
    "                                                                                metric_embedding[x],metric_mean,metric_std))"
   ]
  },
  {
   "cell_type": "code",
   "execution_count": null,
   "metadata": {},
   "outputs": [],
   "source": []
  }
 ],
 "metadata": {
  "kernelspec": {
   "display_name": "Python 3",
   "language": "python",
   "name": "python3"
  },
  "language_info": {
   "codemirror_mode": {
    "name": "ipython",
    "version": 3
   },
   "file_extension": ".py",
   "mimetype": "text/x-python",
   "name": "python",
   "nbconvert_exporter": "python",
   "pygments_lexer": "ipython3",
   "version": "3.7.4"
  }
 },
 "nbformat": 4,
 "nbformat_minor": 4
}
