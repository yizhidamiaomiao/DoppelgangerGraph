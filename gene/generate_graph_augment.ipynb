{
 "cells": [
  {
   "cell_type": "code",
   "execution_count": 1,
   "metadata": {},
   "outputs": [],
   "source": [
    "import networkx as nx\n",
    "import scipy.sparse as sp\n",
    "import numpy as np\n",
    "import graph_utils as utils\n",
    "import torch\n",
    "import torch\n",
    "from collections import defaultdict\n",
    "import numpy as np\n",
    "import time\n",
    "import json"
   ]
  },
  {
   "cell_type": "code",
   "execution_count": 2,
   "metadata": {},
   "outputs": [],
   "source": [
    "seed=114514\n",
    "np.random.seed(seed)\n",
    "torch.manual_seed(seed)\n",
    "torch.cuda.manual_seed(seed)\n",
    "torch.cuda.seed_all()"
   ]
  },
  {
   "cell_type": "markdown",
   "metadata": {},
   "source": [
    "# **Read data**"
   ]
  },
  {
   "cell_type": "code",
   "execution_count": 3,
   "metadata": {},
   "outputs": [
    {
     "name": "stdout",
     "output_type": "stream",
     "text": [
      "2872\n",
      "[[  0  60]\n",
      " [  0 622]\n",
      " [  1 345]\n",
      " [  2  39]\n",
      " [  2  56]]\n"
     ]
    }
   ],
   "source": [
    "loader = np.load('gene_with_label.npz')\n",
    "train_ones = loader['edges']\n",
    "labels=loader['labels']\n",
    "print(len(train_ones))\n",
    "print(train_ones[:5])"
   ]
  },
  {
   "cell_type": "code",
   "execution_count": 4,
   "metadata": {},
   "outputs": [
    {
     "name": "stdout",
     "output_type": "stream",
     "text": [
      "Selecting 1 largest connected components\n",
      "n 814\n",
      "m 1436\n"
     ]
    }
   ],
   "source": [
    "adj_sparse = np.zeros((np.max(train_ones)+1,np.max(train_ones)+1))\n",
    "for e in train_ones:\n",
    "    adj_sparse[e[0],e[1]]=1\n",
    "    adj_sparse[e[1],e[0]]=1\n",
    "    \n",
    "adj_sparse = sp.coo_matrix(adj_sparse).tocsr()\n",
    "\n",
    "lcc = utils.largest_connected_components(adj_sparse)\n",
    "adj_sparse= adj_sparse[lcc,:][:,lcc]\n",
    "_N = adj_sparse.shape[0]\n",
    "print('n',_N)\n",
    "_Edges=[]\n",
    "for x in np.column_stack(adj_sparse.nonzero()):\n",
    "    if not x[0]==x[1]:\n",
    "        _Edges.append((x[0],x[1]))\n",
    "_num_of_edges=int(len(_Edges)/2)\n",
    "print('m',_num_of_edges)\n",
    "\n",
    "dic=defaultdict(set)\n",
    "for x in _Edges:\n",
    "    a1=x[0]\n",
    "    a2=x[1]\n",
    "    dic[a1].add(a2)\n",
    "    dic[a2].add(a1)\n",
    "    \n",
    "\n",
    "adj_origin=np.zeros((_N,_N)).astype(int)\n",
    "for (i,j) in _Edges:\n",
    "    adj_origin[i][j]=1\n",
    "    adj_origin[j][i]=1\n",
    "assert(np.sum(adj_origin==adj_origin.T)==_N*_N)\n",
    "assert(np.sum(adj_origin)==_num_of_edges*2)"
   ]
  },
  {
   "cell_type": "code",
   "execution_count": 5,
   "metadata": {},
   "outputs": [],
   "source": [
    "_Edges=np.array(_Edges).astype(int)\n",
    "np.save('gene_edges.npy',_Edges)"
   ]
  },
  {
   "cell_type": "markdown",
   "metadata": {},
   "source": [
    "# **1.Get link prediction model and embedding**"
   ]
  },
  {
   "cell_type": "code",
   "execution_count": 6,
   "metadata": {},
   "outputs": [],
   "source": [
    "embedding_dim=128\n",
    "node_class=2\n",
    "\n",
    "graphsagemodel=utils.GraphSAGE(_N=_N,_M=_num_of_edges,adj_origin=adj_origin,\n",
    "                                         adj_dic=dic,embedding_dim=embedding_dim)\n"
   ]
  },
  {
   "cell_type": "markdown",
   "metadata": {},
   "source": [
    "# *1.2 Load pretrained model*"
   ]
  },
  {
   "cell_type": "code",
   "execution_count": 7,
   "metadata": {},
   "outputs": [],
   "source": [
    "graphsagemodel.load_model(path='graphsage.pth',embedding_path='embeddings_matrix.npy')"
   ]
  },
  {
   "cell_type": "code",
   "execution_count": 8,
   "metadata": {},
   "outputs": [],
   "source": [
    "embedding_matrix_numpy=graphsagemodel.embedding_matrix_numpy\n",
    "link_prediction_model=graphsagemodel.graphsage_link_prediction_from_embedding_one_to_other"
   ]
  },
  {
   "cell_type": "markdown",
   "metadata": {},
   "source": [
    "# **2.GAN generate new embeddings**"
   ]
  },
  {
   "cell_type": "code",
   "execution_count": 9,
   "metadata": {},
   "outputs": [],
   "source": [
    "batch_size=256\n",
    "noise_dim=16\n",
    "g_hidden_dim=[32,64,100]\n",
    "d_hidden_dim=[100,64,32]\n",
    "lendataloader=20\n",
    "Diter=5\n",
    "Giter=1\n",
    "epoch_numbers=10000\n",
    "eval_epoch=200\n"
   ]
  },
  {
   "cell_type": "code",
   "execution_count": 10,
   "metadata": {},
   "outputs": [],
   "source": [
    "netG = utils.Generator(noise_dim=noise_dim,embedding_dim=embedding_dim+2, g_hidden_dim=g_hidden_dim,batch_size=batch_size).cuda()"
   ]
  },
  {
   "cell_type": "code",
   "execution_count": 11,
   "metadata": {},
   "outputs": [
    {
     "data": {
      "text/plain": [
       "<All keys matched successfully>"
      ]
     },
     "execution_count": 11,
     "metadata": {},
     "output_type": "execute_result"
    }
   ],
   "source": [
    "netG.load_state_dict(torch.load('gan_model_pretrained/bestG.pth'))"
   ]
  },
  {
   "cell_type": "markdown",
   "metadata": {},
   "source": [
    "# *2.2.2compute ECDF*"
   ]
  },
  {
   "cell_type": "code",
   "execution_count": 12,
   "metadata": {},
   "outputs": [
    {
     "name": "stdout",
     "output_type": "stream",
     "text": [
      "2\n"
     ]
    },
    {
     "data": {
      "image/png": "[encoded data removed]",
      "text/plain": [
       "<Figure size 432x288 with 1 Axes>"
      ]
     },
     "metadata": {
      "needs_background": "light"
     },
     "output_type": "display_data"
    },
    {
     "name": "stdout",
     "output_type": "stream",
     "text": [
      "[[0.         0.         2.2181015  0.         0.        ]\n",
      " [0.         0.         0.13831477 1.6214032  0.        ]\n",
      " [0.         0.         1.2885387  3.5342638  0.        ]]\n",
      "[[0.00000000e+00 1.00000000e+00 1.03166521e+00 0.00000000e+00\n",
      "  1.59045100e-01]\n",
      " [0.00000000e+00 1.00000000e+00 1.91578984e-01 3.49158692e+00\n",
      "  4.36463766e-02]\n",
      " [2.19802969e-37 1.00000000e+00 4.10909913e-02 1.89892602e+00\n",
      "  1.40137896e-01]]\n",
      "0.003531879\n",
      "0.0001841364425255368\n",
      "0.0022699298787681567\n"
     ]
    },
    {
     "data": {
      "text/plain": [
       "(0.005433536040648946, 814)"
      ]
     },
     "execution_count": 12,
     "metadata": {},
     "output_type": "execute_result"
    }
   ],
   "source": [
    "train_embeddings=np.zeros((_N,128+2))\n",
    "train_embeddings[:,:128]=embedding_matrix_numpy[:,:]\n",
    "print(np.max(labels))\n",
    "for i in range(_N):\n",
    "    train_embeddings[i,labels[i]-1]=1\n",
    "utils.eval_plot(netG,embedding_matrix=train_embeddings,noise_dim=16,mmd_beta=0.1)"
   ]
  },
  {
   "cell_type": "markdown",
   "metadata": {},
   "source": [
    "# **3.Sample**"
   ]
  },
  {
   "cell_type": "code",
   "execution_count": 13,
   "metadata": {},
   "outputs": [],
   "source": [
    "def save_graph(adj_generate,labels,dirpath,embeddings=None):\n",
    "    edges=[]\n",
    "    for i in range(_N):\n",
    "        for j in range(i+1,_N):\n",
    "            if adj_generate[i][j]==1:\n",
    "                edges.append((i,j))\n",
    "    edges=np.array(edges).astype(int)\n",
    "    np.savez(dirpath, edges=edges, labels=labels,embeddings=embeddings)"
   ]
  },
  {
   "cell_type": "code",
   "execution_count": 14,
   "metadata": {},
   "outputs": [],
   "source": [
    "def edgeoverlap_generate(generate_graph,adj_origin):\n",
    "    tp=0\n",
    "    tn=0\n",
    "    fp=0\n",
    "    fn=0\n",
    "    for i in range(_N):\n",
    "        for j in range(_N):\n",
    "            if generate_graph[i,j]==1 and adj_origin[i,j]==1:\n",
    "                tp=tp+1\n",
    "            if generate_graph[i,j]==0 and adj_origin[i,j]==1:\n",
    "                fp=fp+1\n",
    "            if generate_graph[i,j]==1 and adj_origin[i,j]==0:\n",
    "                fn=fn+1\n",
    "            if generate_graph[i,j]==0 and adj_origin[i,j]==0:\n",
    "                tn=tn+1\n",
    "        print('\\r%d/%d'%(i,_N),end=\"\")\n",
    "    print('\\n')\n",
    "    print('Edge overlap between generate graph and original graph')\n",
    "    print(generate_graph.shape)\n",
    "    total_num=_N*_N\n",
    "    print('True Positve:%d, %.2f'%(tp,tp/(tp+fp)))\n",
    "    print('False Positve:%d, %.2f'%(fp,fp/(tp+fp)))\n",
    "    print('True Negative:%d, %.2f'%(tn,tn/(tn+fn)))\n",
    "    print('False Negative:%d, %.2f'%(fn,fn/(tn+fn)))\n",
    "    print('Positive:%.2f'%((tp+fp)/total_num))\n",
    "    print('Negative:%.2f'%((tn+fn)/total_num))\n",
    "    return tp/(tp+fp)"
   ]
  },
  {
   "cell_type": "code",
   "execution_count": 15,
   "metadata": {},
   "outputs": [],
   "source": [
    "import os\n",
    "dirs_generate = 'graph_generate/'\n",
    "if not os.path.exists(dirs_generate):\n",
    "    os.makedirs(dirs_generate)"
   ]
  },
  {
   "cell_type": "code",
   "execution_count": 16,
   "metadata": {},
   "outputs": [
    {
     "name": "stdout",
     "output_type": "stream",
     "text": [
      "\n",
      " 0 \n",
      "\n",
      "(814, 130)\n",
      "813/814[(0.9820780158042908, 390, 666), (0.9821187257766724, 763, 772), (0.9824768900871277, 82, 294), (0.9823680520057678, 43, 758), (0.9821332097053528, 399, 689), (0.9829069972038269, 470, 538), (0.9828994870185852, 57, 289), (0.9824435710906982, 536, 669), (0.9823756814002991, 233, 581), (0.9822662472724915, 43, 136)]\n",
      " max: (1.0, 738, 758) min: (0.9820780158042908, 390, 666)\n",
      "814\n",
      "[1, 1, 1, 1, 1, 1, 1, 1, 1, 1]\n",
      "[29, 21, 19, 19, 18, 18, 18, 16, 16, 16]\n",
      "[(0, 1), (0, 4), (0, 6), (0, 7), (0, 8), (0, 10), (0, 13), (0, 16), (0, 21), (0, 22)]\n",
      "[(42, 738), (42, 628), (42, 5), (39, 136), (37, 621), (37, 115), (36, 504), (36, 272), (36, 207), (34, 312)]\n",
      "[[29, 738], [21, 628], [19, 136], [19, 5], [18, 621], [18, 504], [18, 115], [16, 651], [16, 312], [16, 272]]\n",
      "[[1, 1], [1, 4], [1, 6], [1, 7], [1, 8], [1, 10], [1, 13], [1, 16], [1, 21], [1, 22]]\n",
      " remain_edge:0,x=762872.0\n",
      "0.0\n",
      "1436\n"
     ]
    },
    {
     "name": "stderr",
     "output_type": "stream",
     "text": [
      "/opt/anaconda3/lib/python3.7/site-packages/powerlaw.py:700: RuntimeWarning: invalid value encountered in true_divide\n",
      "  (Theoretical_CDF * (1 - Theoretical_CDF))\n"
     ]
    },
    {
     "name": "stdout",
     "output_type": "stream",
     "text": [
      "813/814\n",
      "\n",
      "Edge overlap between generate graph and original graph\n",
      "(814, 814)\n",
      "True Positve:8, 0.00\n",
      "False Positve:2864, 1.00\n",
      "True Negative:656860, 1.00\n",
      "False Negative:2864, 0.00\n",
      "Positive:0.00\n",
      "Negative:1.00\n",
      "\n",
      " 1 \n",
      "\n",
      "(814, 130)\n",
      "813/814[(0.9713721871376038, 201, 284), (0.9714519381523132, 482, 637), (0.9724335074424744, 346, 476), (0.9719803333282471, 96, 482), (0.9719512462615967, 292, 370), (0.9759601950645447, 180, 430), (0.9750881195068359, 155, 650), (0.9725316762924194, 314, 455), (0.972989559173584, 563, 690), (0.97197026014328, 6, 67)]\n",
      " max: (1.0, 749, 760) min: (0.9713721871376038, 201, 284)\n",
      "814\n",
      "[1, 1, 1, 1, 1, 1, 1, 1, 1, 1]\n",
      "[29, 21, 19, 19, 18, 18, 18, 16, 16, 16]\n",
      "[(0, 2), (0, 4), (0, 5), (0, 9), (0, 11), (0, 12), (0, 16), (0, 17), (0, 19), (0, 20)]\n",
      "[(39, 362), (38, 190), (33, 176), (30, 407), (29, 706), (29, 440), (29, 225), (29, 26), (28, 682), (28, 629)]\n",
      "[[29, 362], [21, 190], [19, 407], [19, 176], [18, 706], [18, 440], [18, 225], [16, 682], [16, 629], [16, 58]]\n",
      "[[1, 2], [1, 4], [1, 5], [1, 9], [1, 11], [1, 12], [1, 16], [1, 17], [1, 19], [1, 20]]\n",
      " remain_edge:0,x=892872.0\n",
      "0.0\n",
      "1436\n",
      "813/814\n",
      "\n",
      "Edge overlap between generate graph and original graph\n",
      "(814, 814)\n",
      "True Positve:16, 0.01\n",
      "False Positve:2856, 0.99\n",
      "True Negative:656868, 1.00\n",
      "False Negative:2856, 0.00\n",
      "Positive:0.00\n",
      "Negative:1.00\n",
      "\n",
      " 2 \n",
      "\n",
      "(814, 130)\n",
      "813/814[(0.9613402485847473, 176, 743), (0.9613404870033264, 346, 468), (0.9614865779876709, 552, 584), (0.961458683013916, 235, 254), (0.9615747332572937, 157, 312), (0.9653707146644592, 250, 523), (0.9627063274383545, 508, 717), (0.961945116519928, 91, 535), (0.9633377194404602, 245, 738), (0.9628937244415283, 308, 489)]\n",
      " max: (1.0, 750, 759) min: (0.9613402485847473, 176, 743)\n",
      "814\n",
      "[1, 1, 1, 1, 1, 1, 1, 1, 1, 1]\n",
      "[29, 21, 19, 19, 18, 18, 18, 16, 16, 16]\n",
      "[(0, 0), (0, 3), (0, 5), (0, 6), (0, 10), (0, 11), (0, 13), (0, 15), (0, 16), (0, 17)]\n",
      "[(40, 31), (34, 600), (34, 275), (33, 673), (32, 429), (32, 280), (31, 439), (31, 116), (30, 505), (29, 670)]\n",
      "[[29, 31], [21, 600], [19, 673], [19, 275], [18, 439], [18, 429], [18, 280], [16, 670], [16, 505], [16, 350]]\n",
      "[[1, 0], [1, 3], [1, 5], [1, 6], [1, 10], [1, 11], [1, 13], [1, 15], [1, 16], [1, 17]]\n",
      " remain_edge:0,x=822872.0\n",
      "0.0\n",
      "1436\n",
      "813/814\n",
      "\n",
      "Edge overlap between generate graph and original graph\n",
      "(814, 814)\n",
      "True Positve:18, 0.01\n",
      "False Positve:2854, 0.99\n",
      "True Negative:656870, 1.00\n",
      "False Negative:2854, 0.00\n",
      "Positive:0.00\n",
      "Negative:1.00\n",
      "\n",
      " 3 \n",
      "\n",
      "(814, 130)\n",
      "813/814[(0.9956438541412354, 462, 809), (0.9957256317138672, 241, 428), (0.9956488013267517, 165, 701), (0.9957399368286133, 286, 619), (0.9961069226264954, 46, 767), (0.9959068298339844, 312, 809), (0.9960148334503174, 8, 165), (0.9961121678352356, 639, 786), (0.9959486126899719, 167, 253), (0.9962802529335022, 122, 200)]\n",
      " max: (1.0, 783, 788) min: (0.9956438541412354, 462, 809)\n",
      "814\n",
      "[1, 1, 1, 1, 1, 1, 1, 1, 1, 1]\n",
      "[29, 21, 19, 19, 18, 18, 18, 16, 16, 16]\n",
      "[(0, 1), (0, 2), (0, 3), (0, 4), (0, 5), (0, 6), (0, 9), (0, 11), (0, 13), (0, 14)]\n",
      "[(33, 706), (32, 727), (32, 456), (31, 768), (31, 767), (30, 261), (30, 206), (29, 451), (29, 230), (28, 562)]\n",
      "[[29, 706], [21, 727], [19, 768], [19, 456], [18, 767], [18, 261], [18, 206], [16, 562], [16, 451], [16, 230]]\n",
      "[[1, 1], [1, 2], [1, 3], [1, 4], [1, 5], [1, 6], [1, 9], [1, 11], [1, 13], [1, 14]]\n",
      " remain_edge:0,x=5159172872.0\n",
      "0.0\n",
      "1436\n",
      "813/814\n",
      "\n",
      "Edge overlap between generate graph and original graph\n",
      "(814, 814)\n",
      "True Positve:12, 0.00\n",
      "False Positve:2860, 1.00\n",
      "True Negative:656864, 1.00\n",
      "False Negative:2860, 0.00\n",
      "Positive:0.00\n",
      "Negative:1.00\n",
      "\n",
      " 4 \n",
      "\n",
      "(814, 130)\n",
      "813/814[(0.9652548432350159, 106, 315), (0.9655299186706543, 112, 429), (0.9653295874595642, 422, 548), (0.9661648869514465, 52, 262), (0.965675950050354, 308, 674), (0.9656349420547485, 170, 623), (0.965510904788971, 397, 666), (0.9680702090263367, 132, 247), (0.9668332934379578, 272, 624), (0.9681397080421448, 276, 791)]\n",
      " max: (1.0, 727, 795) min: (0.9652548432350159, 106, 315)\n",
      "814\n",
      "[1, 1, 1, 1, 1, 1, 1, 1, 1, 1]\n",
      "[29, 21, 19, 19, 18, 18, 18, 16, 16, 16]\n",
      "[(0, 4), (0, 6), (0, 7), (0, 8), (0, 9), (0, 10), (0, 11), (0, 13), (0, 14), (0, 15)]\n",
      "[(41, 735), (40, 394), (36, 407), (31, 608), (31, 316), (31, 311), (30, 678), (30, 209), (29, 549), (29, 427)]\n",
      "[[29, 735], [21, 394], [19, 608], [19, 407], [18, 678], [18, 316], [18, 311], [16, 549], [16, 500], [16, 427]]\n",
      "[[1, 4], [1, 6], [1, 7], [1, 8], [1, 9], [1, 10], [1, 11], [1, 13], [1, 14], [1, 15]]\n",
      " remain_edge:0,x=332872.0\n",
      "0.0\n",
      "1436\n",
      "813/814\n",
      "\n",
      "Edge overlap between generate graph and original graph\n",
      "(814, 814)\n",
      "True Positve:8, 0.00\n",
      "False Positve:2864, 1.00\n",
      "True Negative:656860, 1.00\n",
      "False Negative:2864, 0.00\n",
      "Positive:0.00\n",
      "Negative:1.00\n"
     ]
    }
   ],
   "source": [
    "metric_list={}\n",
    "for idx in range(5):\n",
    "    noise= torch.randn(_N, noise_dim).cuda()\n",
    "    generate_data=netG(noise)\n",
    "    generate_data=generate_data.detach().to('cpu').numpy()\n",
    "    print('\\n',idx,'\\n')\n",
    "    print(generate_data.shape)\n",
    "    labels_new=np.zeros(_N)\n",
    "    \n",
    "    for i in range(_N):\n",
    "        maxs=0\n",
    "        maxj=0\n",
    "        for j in range(node_class):\n",
    "            if generate_data[i,128+j]>maxs:\n",
    "                maxs=generate_data[i,128+j]\n",
    "                maxj=j\n",
    "        labels_new[i]=maxj\n",
    "        \n",
    "    probability_matrix_generate=utils.generate_probability_matrix(_N,generate_data[:,:128],\n",
    "                                                                            link_prediction_model)\n",
    "    _,graphic_seq_generate=utils.evaluate_overlap_torch_generate(_N,_num_of_edges,\n",
    "                                                                                      probability_matrix_generate)\n",
    "    generate_graph=utils.revised_Havel_Hakimmi_Algorithm(_N,_num_of_edges,dic,probability_matrix_generate,graphic_seq_generate)\n",
    "\n",
    "    save_graph(generate_graph,labels_new,'graph_generate/gene_ourmethod'+str(idx),generate_data[:,:128])\n",
    "    data=utils.compute_graph_statistics(generate_graph)\n",
    "    data['edge_overlap']=edgeoverlap_generate(generate_graph,adj_origin)\n",
    "    for x in data:\n",
    "        try:\n",
    "            metric_list[x]\n",
    "        except:\n",
    "            metric_list[x]=[]\n",
    "        metric_list[x].append(data[x])\n"
   ]
  },
  {
   "cell_type": "code",
   "execution_count": 17,
   "metadata": {},
   "outputs": [],
   "source": [
    "metric_origin=utils.compute_graph_statistics(adj_origin)\n",
    "metric_embedding=utils.compute_graph_statistics(adj_origin)"
   ]
  },
  {
   "cell_type": "code",
   "execution_count": 18,
   "metadata": {},
   "outputs": [
    {
     "name": "stdout",
     "output_type": "stream",
     "text": [
      "d_max                  origin:     29.00000000, generate:     29.00000000+-      0.00000000\n",
      "d_min                  origin:      1.00000000, generate:      1.00000000+-      0.00000000\n",
      "d                      origin:      3.52825553, generate:      3.52825553+-      0.00000000\n",
      "LCC                    origin:    814.00000000, generate:    632.00000000+-     24.89176571\n",
      "wedge_count            origin:   7786.00000000, generate:   7786.00000000+-      0.00000000\n",
      "claw_count             origin:  23322.00000000, generate:  23322.00000000+-      0.00000000\n",
      "triangle_count         origin:    809.00000000, generate:    653.60000000+-     19.36594950\n",
      "square_count           origin:    968.00000000, generate:    417.60000000+-     73.31193627\n",
      "power_law_exp          origin:      2.05426571, generate:      2.05426571+-      0.00000000\n",
      "gini                   origin:      0.42572701, generate:      0.42572701+-      0.00000000\n",
      "rel_edge_distr_entropy origin:      0.95303593, generate:      0.95303593+-      0.00000000\n",
      "assortativity          origin:      0.13561540, generate:      0.58261229+-      0.06715086\n",
      "clustering_coefficient origin:      0.10406483, generate:      0.08407512+-      0.00249112\n",
      "n_components           origin:      1.00000000, generate:     64.60000000+-      8.26075057\n",
      "cpl                    origin:      7.00830485, generate:     10.71637487+-      0.86841275\n",
      "edge_overlap           generate:      0.00431755+-      0.00142034\n"
     ]
    }
   ],
   "source": [
    "for x in metric_list:\n",
    "    metric_mean=np.mean(metric_list[x])\n",
    "    metric_std=np.std(metric_list[x])\n",
    "    if x=='edge_overlap':\n",
    "        print('%-22s generate:%16.8f+-%16.8f'%(x,metric_mean,metric_std))\n",
    "    else:\n",
    "        print('%-22s origin:%16.8f, generate:%16.8f+-%16.8f'%(x,metric_origin[x],metric_mean,metric_std))"
   ]
  },
  {
   "cell_type": "code",
   "execution_count": null,
   "metadata": {},
   "outputs": [],
   "source": []
  }
 ],
 "metadata": {
  "kernelspec": {
   "display_name": "Python 3",
   "language": "python",
   "name": "python3"
  },
  "language_info": {
   "codemirror_mode": {
    "name": "ipython",
    "version": 3
   },
   "file_extension": ".py",
   "mimetype": "text/x-python",
   "name": "python",
   "nbconvert_exporter": "python",
   "pygments_lexer": "ipython3",
   "version": "3.7.4"
  }
 },
 "nbformat": 4,
 "nbformat_minor": 4
}
