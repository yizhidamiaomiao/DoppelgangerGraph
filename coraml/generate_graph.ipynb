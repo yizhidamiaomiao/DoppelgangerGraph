{
 "cells": [
  {
   "cell_type": "code",
   "execution_count": 1,
   "metadata": {},
   "outputs": [],
   "source": [
    "import networkx as nx\n",
    "import scipy.sparse as sp\n",
    "import numpy as np\n",
    "import utils\n",
    "import torch\n",
    "import torch\n",
    "from collections import defaultdict\n",
    "import numpy as np\n",
    "import time\n",
    "import json"
   ]
  },
  {
   "cell_type": "code",
   "execution_count": 2,
   "metadata": {},
   "outputs": [],
   "source": [
    "seed=114514\n",
    "np.random.seed(seed)\n",
    "torch.manual_seed(seed)\n",
    "torch.cuda.manual_seed(seed)\n",
    "torch.cuda.seed_all()"
   ]
  },
  {
   "cell_type": "markdown",
   "metadata": {},
   "source": [
    "# **Read data**"
   ]
  },
  {
   "cell_type": "code",
   "execution_count": 3,
   "metadata": {},
   "outputs": [
    {
     "name": "stdout",
     "output_type": "stream",
     "text": [
      "13566\n",
      "2809\n",
      "2796\n"
     ]
    }
   ],
   "source": [
    "loader = np.load('split.npy').item()\n",
    "train_ones = loader['train_ones']\n",
    "val_ones = loader['val_ones']\n",
    "val_zeros = loader['val_zeros']\n",
    "test_ones = loader['test_ones']\n",
    "test_zeros = loader['test_zeros']\n",
    "test_edges=test_ones\n",
    "test_edges_false=test_zeros\n",
    "print(len(train_ones))\n",
    "print(np.max(train_ones))\n",
    "print(np.max(test_ones))"
   ]
  },
  {
   "cell_type": "code",
   "execution_count": 4,
   "metadata": {},
   "outputs": [
    {
     "name": "stdout",
     "output_type": "stream",
     "text": [
      "Selecting 1 largest connected components\n",
      "n 2810\n",
      "m 6783\n"
     ]
    }
   ],
   "source": [
    "adj_sparse = np.zeros((np.max(train_ones)+1,np.max(train_ones)+1))\n",
    "for e in train_ones:\n",
    "    adj_sparse[e[0],e[1]]=1\n",
    "    adj_sparse[e[1],e[0]]=1\n",
    "    \n",
    "adj_sparse = sp.coo_matrix(adj_sparse).tocsr()\n",
    "\n",
    "lcc = utils.largest_connected_components(adj_sparse)\n",
    "adj_sparse= adj_sparse[lcc,:][:,lcc]\n",
    "_N = adj_sparse.shape[0]\n",
    "print('n',_N)\n",
    "_Edges=[]\n",
    "for x in np.column_stack(adj_sparse.nonzero()):\n",
    "    if not x[0]==x[1]:\n",
    "        _Edges.append((x[0],x[1]))\n",
    "_num_of_edges=int(len(_Edges)/2)\n",
    "print('m',_num_of_edges)\n",
    "\n",
    "dic=defaultdict(set)\n",
    "for x in _Edges:\n",
    "    a1=x[0]\n",
    "    a2=x[1]\n",
    "    dic[a1].add(a2)\n",
    "    dic[a2].add(a1)\n",
    "    \n",
    "\n",
    "adj_origin=np.zeros((_N,_N)).astype(int)\n",
    "for (i,j) in _Edges:\n",
    "    adj_origin[i][j]=1\n",
    "    adj_origin[j][i]=1\n",
    "assert(np.sum(adj_origin==adj_origin.T)==_N*_N)\n",
    "assert(np.sum(adj_origin)==_num_of_edges*2)"
   ]
  },
  {
   "cell_type": "markdown",
   "metadata": {},
   "source": [
    "# **1.Get link prediction model and embedding**"
   ]
  },
  {
   "cell_type": "code",
   "execution_count": 5,
   "metadata": {},
   "outputs": [],
   "source": [
    "embedding_dim=128\n",
    "\n",
    "graphsagemodel=utils.GraphSAGE(_N=_N,_M=_num_of_edges,adj_origin=adj_origin,\n",
    "                                         adj_dic=dic,embedding_dim=embedding_dim)\n"
   ]
  },
  {
   "cell_type": "markdown",
   "metadata": {},
   "source": [
    "# *1.2 Load pretrained model*"
   ]
  },
  {
   "cell_type": "code",
   "execution_count": 6,
   "metadata": {},
   "outputs": [],
   "source": [
    "graphsagemodel.load_model(path='graphsage.pth',embedding_path='embeddings.npy')"
   ]
  },
  {
   "cell_type": "code",
   "execution_count": 7,
   "metadata": {},
   "outputs": [
    {
     "name": "stdout",
     "output_type": "stream",
     "text": [
      "2809/2810[(0.70507294, 169, 188), (0.706236, 557, 1973), (0.7066656, 15, 2722), (0.70710826, 2104, 2402), (0.70825166, 349, 2440), (0.7087395, 614, 2598), (0.71208704, 252, 740), (0.713079, 684, 786), (0.71404403, 1434, 2344), (0.71184915, 995, 2280)]\n",
      "1.0\n",
      "(2810, 2810)\n",
      "13566\n",
      "13566\n",
      "True Positve:12776, 0.94\n",
      "False Positve:790, 0.06\n",
      "True Negative:7881744, 1.00\n",
      "False Negative:790, 0.00\n",
      "Positive:0.00\n",
      "Negative:1.00\n"
     ]
    }
   ],
   "source": [
    "embedding_matrix_numpy=graphsagemodel.embedding_matrix_numpy\n",
    "link_prediction_model=graphsagemodel.graphsage_link_prediction_from_embedding_one_to_other\n",
    "predict_adj=utils.evaluate_overlap_torch(_N=_N,\n",
    "                                                    _num_of_edges=_num_of_edges,\n",
    "                                                    adj_origin=adj_origin,\n",
    "                                                    embedding_matrix_numpy=embedding_matrix_numpy,\n",
    "                                                    link_prediction_from_embedding_one_to_other=link_prediction_model)"
   ]
  },
  {
   "cell_type": "code",
   "execution_count": 8,
   "metadata": {},
   "outputs": [
    {
     "name": "stderr",
     "output_type": "stream",
     "text": [
      "Values less than or equal to 0 in data. Throwing out 0 or negative values\n",
      "/opt/anaconda3/lib/python3.7/site-packages/powerlaw.py:700: RuntimeWarning: invalid value encountered in true_divide\n",
      "  (Theoretical_CDF * (1 - Theoretical_CDF))\n"
     ]
    }
   ],
   "source": [
    "metric_embedding=utils.compute_graph_statistics(predict_adj)\n",
    "metric_origin=utils.compute_graph_statistics(adj_origin)"
   ]
  },
  {
   "cell_type": "code",
   "execution_count": 9,
   "metadata": {},
   "outputs": [
    {
     "name": "stdout",
     "output_type": "stream",
     "text": [
      "d_max                     origin:     240.00000000, link_pred:     241.00000000\n",
      "d_min                     origin:       1.00000000, link_pred:       0.00000000\n",
      "d                         origin:       4.82775801, link_pred:       4.82775801\n",
      "LCC                       origin:    2810.00000000, link_pred:    2802.00000000\n",
      "wedge_count               origin:  101872.00000000, link_pred:  101066.00000000\n",
      "claw_count                origin: 3094240.00000000, link_pred: 3188093.00000000\n",
      "triangle_count            origin:    2814.00000000, link_pred:    2612.00000000\n",
      "square_count              origin:     517.00000000, link_pred:     545.00000000\n",
      "power_law_exp             origin:       1.85595899, link_pred:       1.84366819\n",
      "gini                      origin:       0.48239581, link_pred:       0.47515382\n",
      "rel_edge_distr_entropy    origin:       0.94070677, link_pred:       0.94233983\n",
      "clustering_coefficient    origin:       0.00272830, link_pred:       0.00245790\n",
      "n_components              origin:       1.00000000, link_pred:       9.00000000\n",
      "cpl                       origin:       5.60937302, link_pred:       5.54884141\n"
     ]
    }
   ],
   "source": [
    "for x in metric_origin:\n",
    "    print('%-25s origin:%17.8f, link_pred:%17.8f'%(x,metric_origin[x],metric_embedding[x]))"
   ]
  },
  {
   "cell_type": "markdown",
   "metadata": {},
   "source": [
    "# **2.GAN generate new embeddings**"
   ]
  },
  {
   "cell_type": "code",
   "execution_count": 10,
   "metadata": {},
   "outputs": [],
   "source": [
    "batch_size=256\n",
    "noise_dim=16\n",
    "g_hidden_dim=[32,64,100]\n",
    "d_hidden_dim=[100,64,32]\n",
    "lendataloader=20\n",
    "Diter=5\n",
    "Giter=1\n",
    "epoch_numbers=10000\n",
    "eval_epoch=200\n"
   ]
  },
  {
   "cell_type": "code",
   "execution_count": 11,
   "metadata": {},
   "outputs": [],
   "source": [
    "netG = utils.Generator(noise_dim=noise_dim,embedding_dim=embedding_dim, g_hidden_dim=g_hidden_dim,batch_size=batch_size).cuda()"
   ]
  },
  {
   "cell_type": "code",
   "execution_count": 12,
   "metadata": {},
   "outputs": [
    {
     "data": {
      "text/plain": [
       "<All keys matched successfully>"
      ]
     },
     "execution_count": 12,
     "metadata": {},
     "output_type": "execute_result"
    }
   ],
   "source": [
    "netG.load_state_dict(torch.load('gan_model/bestG_pretrained.pth'))"
   ]
  },
  {
   "cell_type": "markdown",
   "metadata": {},
   "source": [
    "# *2.2.2compute ECDF*"
   ]
  },
  {
   "cell_type": "code",
   "execution_count": 13,
   "metadata": {},
   "outputs": [
    {
     "data": {
      "image/png": "[encoded data removed]",
      "text/plain": [
       "<Figure size 432x288 with 1 Axes>"
      ]
     },
     "metadata": {
      "needs_background": "light"
     },
     "output_type": "display_data"
    },
    {
     "name": "stdout",
     "output_type": "stream",
     "text": [
      "[[0.         0.         0.18309748 0.         1.1138867 ]\n",
      " [1.1226885  0.444145   0.0371883  0.89320165 0.        ]\n",
      " [0.         0.         0.         1.3897697  2.4473934 ]]\n",
      "[[0.3656027  0.         0.         0.892687   0.        ]\n",
      " [0.10652439 0.6752251  1.5621463  0.1655213  0.        ]\n",
      " [0.05632419 1.3437603  1.7646477  0.07964764 0.        ]]\n",
      "0.018355945\n",
      "0.013209016\n",
      "0.01265408\n"
     ]
    },
    {
     "data": {
      "text/plain": [
       "(0.004591993056237698, 2810)"
      ]
     },
     "execution_count": 13,
     "metadata": {},
     "output_type": "execute_result"
    }
   ],
   "source": [
    "utils.eval_plot(netG,embedding_matrix=embedding_matrix_numpy,noise_dim=16,mmd_beta=0.1)"
   ]
  },
  {
   "cell_type": "markdown",
   "metadata": {},
   "source": [
    "# **3.Sample**"
   ]
  },
  {
   "cell_type": "code",
   "execution_count": 14,
   "metadata": {},
   "outputs": [],
   "source": [
    "def edgeoverlap_generate(generate_graph,adj_origin):\n",
    "    tp=0\n",
    "    tn=0\n",
    "    fp=0\n",
    "    fn=0\n",
    "    for i in range(_N):\n",
    "        for j in range(_N):\n",
    "            if generate_graph[i,j]==1 and adj_origin[i,j]==1:\n",
    "                tp=tp+1\n",
    "            if generate_graph[i,j]==0 and adj_origin[i,j]==1:\n",
    "                fp=fp+1\n",
    "            if generate_graph[i,j]==1 and adj_origin[i,j]==0:\n",
    "                fn=fn+1\n",
    "            if generate_graph[i,j]==0 and adj_origin[i,j]==0:\n",
    "                tn=tn+1\n",
    "        print('\\r%d/%d'%(i,_N),end=\"\")\n",
    "    print('\\n')\n",
    "    print('Edge overlap between generate graph and original graph')\n",
    "    print(generate_graph.shape)\n",
    "    total_num=_N*_N\n",
    "    print('True Positve:%d, %.2f'%(tp,tp/(tp+fp)))\n",
    "    print('False Positve:%d, %.2f'%(fp,fp/(tp+fp)))\n",
    "    print('True Negative:%d, %.2f'%(tn,tn/(tn+fn)))\n",
    "    print('False Negative:%d, %.2f'%(fn,fn/(tn+fn)))\n",
    "    print('Positive:%.2f'%((tp+fp)/total_num))\n",
    "    print('Negative:%.2f'%((tn+fn)/total_num))\n",
    "    return tp/(tp+fp)"
   ]
  },
  {
   "cell_type": "code",
   "execution_count": 15,
   "metadata": {},
   "outputs": [],
   "source": [
    "import os\n",
    "dirs_generate = 'graph_generate/'\n",
    "if not os.path.exists(dirs_generate):\n",
    "    os.makedirs(dirs_generate)\n",
    "generate_number=5"
   ]
  },
  {
   "cell_type": "code",
   "execution_count": 16,
   "metadata": {},
   "outputs": [],
   "source": [
    "def save_graph(adj_generate,dirpath):\n",
    "    edges=[]\n",
    "    for i in range(_N):\n",
    "        for j in range(i+1,_N):\n",
    "            if adj_generate[i][j]==1:\n",
    "                edges.append((i,j))\n",
    "    edges=np.array(edges).astype(int)\n",
    "    np.save(dirpath,edges)"
   ]
  },
  {
   "cell_type": "code",
   "execution_count": 17,
   "metadata": {},
   "outputs": [
    {
     "name": "stdout",
     "output_type": "stream",
     "text": [
      "\n",
      " 0 \n",
      "\n",
      "(2810, 128)\n",
      "2809/2810[(0.8280811905860901, 1630, 1973), (0.8281784653663635, 726, 1906), (0.8284873366355896, 811, 929), (0.8281857371330261, 1826, 1973), (0.8282559514045715, 200, 2242), (0.8289461135864258, 275, 1419), (0.8287469148635864, 34, 381), (0.8282570242881775, 1054, 2572), (0.828269898891449, 542, 1685), (0.8283506035804749, 1300, 1914)]\n",
      " max: (1.0, 2572, 2788) min: (0.8280811905860901, 1630, 1973)\n",
      "2810\n",
      "[1, 1, 1, 1, 1, 1, 1, 1, 1, 1]\n",
      "[240, 125, 67, 62, 61, 61, 54, 50, 46, 44]\n",
      "[(0, 0), (0, 6), (0, 7), (0, 9), (0, 14), (0, 18), (0, 21), (0, 22), (0, 23), (0, 24)]\n",
      "[(162, 458), (136, 2572), (130, 723), (126, 2126), (103, 340), (101, 2538), (100, 2478), (84, 2207), (80, 1401), (80, 834)]\n",
      "[[240, 458], [125, 2572], [67, 723], [62, 2126], [61, 2538], [61, 340], [54, 2478], [50, 2207], [46, 1401], [44, 834]]\n",
      "[[1, 0], [1, 6], [1, 7], [1, 9], [1, 14], [1, 18], [1, 21], [1, 22], [1, 23], [1, 24]]\n",
      " remain_edge:0,x=120173913566.0\n",
      "0.0\n",
      "6783\n"
     ]
    },
    {
     "name": "stderr",
     "output_type": "stream",
     "text": [
      "/opt/anaconda3/lib/python3.7/site-packages/powerlaw.py:700: RuntimeWarning: invalid value encountered in true_divide\n",
      "  (Theoretical_CDF * (1 - Theoretical_CDF))\n"
     ]
    },
    {
     "name": "stdout",
     "output_type": "stream",
     "text": [
      "2809/2810\n",
      "\n",
      "Edge overlap between generate graph and original graph\n",
      "(2810, 2810)\n",
      "True Positve:24, 0.00\n",
      "False Positve:13542, 1.00\n",
      "True Negative:7868992, 1.00\n",
      "False Negative:13542, 0.00\n",
      "Positive:0.00\n",
      "Negative:1.00\n",
      "\n",
      " 1 \n",
      "\n",
      "(2810, 128)\n",
      "2809/2810[(0.8494345545768738, 118, 2721), (0.8495151400566101, 233, 658), (0.8496720194816589, 1468, 2315), (0.8495765328407288, 737, 2406), (0.8497353792190552, 658, 2479), (0.8505561947822571, 213, 1563), (0.8500344157218933, 737, 2181), (0.8502753376960754, 1773, 2463), (0.850253164768219, 737, 1896), (0.8505911231040955, 698, 1417)]\n",
      " max: (1.0, 2470, 2576) min: (0.8494345545768738, 118, 2721)\n",
      "2810\n",
      "[1, 1, 1, 1, 1, 1, 1, 1, 1, 1]\n",
      "[240, 125, 67, 62, 61, 61, 54, 50, 46, 44]\n",
      "[(0, 1), (0, 4), (0, 5), (0, 6), (0, 7), (0, 9), (0, 10), (0, 11), (0, 13), (0, 16)]\n",
      "[(151, 737), (146, 488), (132, 2470), (127, 2185), (118, 2221), (113, 1770), (102, 1392), (101, 2389), (98, 1897), (96, 2674)]\n",
      "[[240, 737], [125, 488], [67, 2470], [62, 2185], [61, 2221], [61, 1770], [54, 1392], [50, 2389], [46, 1897], [44, 2674]]\n",
      "[[1, 1], [1, 4], [1, 5], [1, 6], [1, 7], [1, 9], [1, 10], [1, 11], [1, 13], [1, 16]]\n",
      " remain_edge:0,x=185643513566.0\n",
      "0.0\n",
      "6783\n",
      "2809/2810\n",
      "\n",
      "Edge overlap between generate graph and original graph\n",
      "(2810, 2810)\n",
      "True Positve:28, 0.00\n",
      "False Positve:13538, 1.00\n",
      "True Negative:7868996, 1.00\n",
      "False Negative:13538, 0.00\n",
      "Positive:0.00\n",
      "Negative:1.00\n",
      "\n",
      " 2 \n",
      "\n",
      "(2810, 128)\n",
      "2809/2810[(0.8127257227897644, 48, 1998), (0.8127384781837463, 1092, 2693), (0.8127551078796387, 632, 1632), (0.8134867548942566, 1753, 2482), (0.813129723072052, 748, 2102), (0.8128997087478638, 1666, 2273), (0.8136264085769653, 753, 2208), (0.813541829586029, 2025, 2439), (0.8136617541313171, 549, 2379), (0.8134787678718567, 607, 1151)]\n",
      " max: (1.0, 2632, 2774) min: (0.8127257227897644, 48, 1998)\n",
      "2810\n",
      "[1, 1, 1, 1, 1, 1, 1, 1, 1, 1]\n",
      "[240, 125, 67, 62, 61, 61, 54, 50, 46, 44]\n",
      "[(0, 1), (0, 3), (0, 6), (0, 9), (0, 11), (0, 14), (0, 15), (0, 17), (0, 18), (0, 19)]\n",
      "[(178, 2208), (154, 2359), (124, 965), (116, 601), (114, 1808), (114, 298), (109, 2554), (107, 2439), (101, 233), (99, 2774)]\n",
      "[[240, 2208], [125, 2359], [67, 965], [62, 601], [61, 1808], [61, 298], [54, 2554], [50, 2439], [46, 233], [44, 2774]]\n",
      "[[1, 1], [1, 3], [1, 6], [1, 9], [1, 11], [1, 14], [1, 15], [1, 17], [1, 18], [1, 19]]\n",
      " remain_edge:0,x=4113566.0\n",
      "0.0\n",
      "6783\n",
      "2809/2810\n",
      "\n",
      "Edge overlap between generate graph and original graph\n",
      "(2810, 2810)\n",
      "True Positve:34, 0.00\n",
      "False Positve:13532, 1.00\n",
      "True Negative:7869002, 1.00\n",
      "False Negative:13532, 0.00\n",
      "Positive:0.00\n",
      "Negative:1.00\n",
      "\n",
      " 3 \n",
      "\n",
      "(2810, 128)\n",
      "2809/2810[(0.8471972942352295, 708, 1333), (0.8473225235939026, 1972, 2032), (0.8475369215011597, 730, 1169), (0.8474768996238708, 43, 621), (0.8475767970085144, 175, 1363), (0.8475660085678101, 2670, 2758), (0.8475857377052307, 1547, 2808), (0.8474882245063782, 1230, 2250), (0.8478755950927734, 1746, 1980), (0.8480954766273499, 633, 1867)]\n",
      " max: (1.0, 2727, 2733) min: (0.8471972942352295, 708, 1333)\n",
      "2810\n",
      "[1, 1, 1, 1, 1, 1, 1, 1, 1, 1]\n",
      "[240, 125, 67, 62, 61, 61, 54, 50, 46, 44]\n",
      "[(0, 0), (0, 4), (0, 6), (0, 7), (0, 9), (0, 10), (0, 11), (0, 14), (0, 18), (0, 19)]\n",
      "[(125, 1158), (112, 2695), (105, 1077), (97, 730), (92, 1557), (92, 219), (87, 1393), (86, 523), (82, 837), (75, 1262)]\n",
      "[[240, 1158], [125, 2695], [67, 1077], [62, 730], [61, 1557], [61, 219], [54, 1393], [50, 523], [46, 837], [44, 1262]]\n",
      "[[1, 0], [1, 4], [1, 6], [1, 7], [1, 9], [1, 10], [1, 11], [1, 14], [1, 18], [1, 19]]\n",
      " remain_edge:0,x=5513566.0\n",
      "0.0\n",
      "6783\n",
      "2809/2810\n",
      "\n",
      "Edge overlap between generate graph and original graph\n",
      "(2810, 2810)\n",
      "True Positve:30, 0.00\n",
      "False Positve:13536, 1.00\n",
      "True Negative:7868998, 1.00\n",
      "False Negative:13536, 0.00\n",
      "Positive:0.00\n",
      "Negative:1.00\n",
      "\n",
      " 4 \n",
      "\n",
      "(2810, 128)\n",
      "2809/2810[(0.91875821352005, 396, 2382), (0.9190676212310791, 1305, 2429), (0.9190255403518677, 1632, 2447), (0.9190817475318909, 1779, 2773), (0.9191975593566895, 1238, 1633), (0.9191721677780151, 388, 2428), (0.9190776348114014, 2025, 2121), (0.9196513295173645, 1312, 1956), (0.919460117816925, 1265, 2389), (0.9194402694702148, 1311, 1501)]\n",
      " max: (1.0, 2587, 2803) min: (0.91875821352005, 396, 2382)\n",
      "2810\n",
      "[1, 1, 1, 1, 1, 1, 1, 1, 1, 1]\n",
      "[240, 125, 67, 62, 61, 61, 54, 50, 46, 44]\n",
      "[(0, 0), (0, 1), (0, 3), (0, 4), (0, 5), (0, 7), (0, 13), (0, 15), (0, 17), (0, 19)]\n",
      "[(156, 2389), (126, 2112), (122, 2334), (101, 2803), (100, 2121), (100, 1826), (96, 1534), (95, 2701), (79, 1085), (77, 1984)]\n",
      "[[240, 2389], [125, 2112], [67, 2334], [62, 2803], [61, 2121], [61, 1826], [54, 1534], [50, 2701], [46, 1085], [44, 1984]]\n",
      "[[1, 0], [1, 1], [1, 3], [1, 4], [1, 5], [1, 7], [1, 13], [1, 15], [1, 17], [1, 19]]\n",
      " remain_edge:0,x=835134313566.0\n",
      "0.0\n",
      "6783\n",
      "2809/2810\n",
      "\n",
      "Edge overlap between generate graph and original graph\n",
      "(2810, 2810)\n",
      "True Positve:8, 0.00\n",
      "False Positve:13558, 1.00\n",
      "True Negative:7868976, 1.00\n",
      "False Negative:13558, 0.00\n",
      "Positive:0.00\n",
      "Negative:1.00\n"
     ]
    }
   ],
   "source": [
    "metric_list={}\n",
    "for idx in range(generate_number):\n",
    "    noise= torch.randn(_N, noise_dim).cuda()\n",
    "    generate_data=netG(noise)\n",
    "    generate_data=generate_data.detach().to('cpu').numpy()\n",
    "    print('\\n',idx,'\\n')\n",
    "    print(generate_data.shape)\n",
    "    probability_matrix_generate=utils.generate_probability_matrix(_N,generate_data,\n",
    "                                                                            link_prediction_model)\n",
    "    _,graphic_seq_generate=utils.evaluate_overlap_torch_generate(_N,_num_of_edges,\n",
    "                                                                                      probability_matrix_generate)\n",
    "    generate_graph=utils.revised_Havel_Hakimmi_Algorithm(_N,_num_of_edges,dic,probability_matrix_generate,graphic_seq_generate)\n",
    "    \n",
    "    save_graph(generate_graph,'graph_generate/coraml_ourmethod'+str(idx))\n",
    "    data=utils.compute_graph_statistics(generate_graph)\n",
    "    data['edge_overlap']=edgeoverlap_generate(generate_graph,adj_origin)\n",
    "    for x in data:\n",
    "        try:\n",
    "            metric_list[x]\n",
    "        except:\n",
    "            metric_list[x]=[]\n",
    "        metric_list[x].append(data[x])\n"
   ]
  },
  {
   "cell_type": "code",
   "execution_count": 18,
   "metadata": {},
   "outputs": [
    {
     "name": "stdout",
     "output_type": "stream",
     "text": [
      "d_max                  origin:    240.00000000, link_pred:    241.00000000, generate:    240.00000000+-      0.00000000\n",
      "d_min                  origin:      1.00000000, link_pred:      0.00000000, generate:      1.00000000+-      0.00000000\n",
      "d                      origin:      4.82775801, link_pred:      4.82775801, generate:      4.82775801+-      0.00000000\n",
      "LCC                    origin:   2810.00000000, link_pred:   2802.00000000, generate:   2515.60000000+-     15.73022568\n",
      "wedge_count            origin: 101872.00000000, link_pred: 101066.00000000, generate: 101872.00000000+-      0.00000000\n",
      "claw_count             origin:3094240.00000000, link_pred:3188093.00000000, generate:3094240.00000000+-      0.00000000\n",
      "triangle_count         origin:   2814.00000000, link_pred:   2612.00000000, generate:   3062.60000000+-    202.23906645\n",
      "square_count           origin:    517.00000000, link_pred:    545.00000000, generate:   2224.20000000+-    557.16762289\n",
      "power_law_exp          origin:      1.85595899, link_pred:      1.84366819, generate:      1.85595899+-      0.00000000\n",
      "gini                   origin:      0.48239581, link_pred:      0.47515382, generate:      0.48239581+-      0.00000000\n",
      "rel_edge_distr_entropy origin:      0.94070677, link_pred:      0.94233983, generate:      0.94070677+-      0.00000000\n",
      "clustering_coefficient origin:      0.00272830, link_pred:      0.00245790, generate:      0.00296932+-      0.00019608\n",
      "n_components           origin:      1.00000000, link_pred:      9.00000000, generate:    113.40000000+-      5.20000000\n",
      "cpl                    origin:      5.60937302, link_pred:      5.54884141, generate:      5.66681649+-      0.11328792\n",
      "edge_overlap           generate:      0.00182810+-      0.00066326\n"
     ]
    }
   ],
   "source": [
    "for x in metric_list:\n",
    "    metric_mean=np.mean(metric_list[x])\n",
    "    metric_std=np.std(metric_list[x])\n",
    "    if x=='edge_overlap':\n",
    "        print('%-22s generate:%16.8f+-%16.8f'%(x,metric_mean,metric_std))\n",
    "    else:\n",
    "        print('%-22s origin:%16.8f, link_pred:%16.8f, generate:%16.8f+-%16.8f'%(x,metric_origin[x],\n",
    "                                                                                metric_embedding[x],metric_mean,metric_std))"
   ]
  },
  {
   "cell_type": "code",
   "execution_count": null,
   "metadata": {},
   "outputs": [],
   "source": []
  }
 ],
 "metadata": {
  "kernelspec": {
   "display_name": "Python 3",
   "language": "python",
   "name": "python3"
  },
  "language_info": {
   "codemirror_mode": {
    "name": "ipython",
    "version": 3
   },
   "file_extension": ".py",
   "mimetype": "text/x-python",
   "name": "python",
   "nbconvert_exporter": "python",
   "pygments_lexer": "ipython3",
   "version": "3.7.4"
  }
 },
 "nbformat": 4,
 "nbformat_minor": 4
}
